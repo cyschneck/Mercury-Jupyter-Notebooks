{
 "cells": [
  {
   "cell_type": "raw",
   "id": "d0f8685a",
   "metadata": {},
   "source": [
    "---\n",
    "title: star-chart-spherical-projection\n",
    "description: star-chart-spherical-projection web application\n",
    "show-code: False\n",
    "params:\n",
    "    hemisphere:\n",
    "        input: select\n",
    "        label: Select a Hemsiphere for Projection\n",
    "        value: North\n",
    "        choices: [North, South]\n",
    "    yearProperMotion:\n",
    "        input: numeric\n",
    "        label: Year Since 2000\n",
    "        value: -31\n",
    "        min: -150000\n",
    "        max: 150000\n",
    "    displayStarName:\n",
    "        input: checkbox\n",
    "        label: Display Star Names on Chart\n",
    "        value: False\n",
    "    includePrecession:\n",
    "        input: checkbox\n",
    "        label: Calculate for the Precession of the Equinoxes\n",
    "        value: True\n",
    "    displayDeclinationNum:\n",
    "        input: checkbox\n",
    "        label: Display Star Names on Chart\n",
    "        value: True\n",
    "    incrementValue:\n",
    "        input: select\n",
    "        label: Increment Declination Degrees\n",
    "        value: 10\n",
    "        choices: [1, 5, 10]\n",
    "---"
   ]
  },
  {
   "cell_type": "code",
   "execution_count": null,
   "id": "96c99a4f",
   "metadata": {},
   "outputs": [],
   "source": [
    "hemisphere = \"North\"\n",
    "yearProperMotion=-31\n",
    "displayStarName=False\n",
    "displayDeclinationNum=True\n",
    "includePrecession=True\n",
    "incrementValue=10"
   ]
  },
  {
   "cell_type": "markdown",
   "id": "14c792a7",
   "metadata": {},
   "source": [
    "# Welcome\n",
    "Web application of the star-chart-spherical-projection pypi"
   ]
  },
  {
   "cell_type": "code",
   "execution_count": null,
   "id": "6c47b4c6",
   "metadata": {},
   "outputs": [],
   "source": [
    "import star_chart_spherical_projection\n",
    "\n",
    "#print(\"Generating for {0}ern Hemipshere\".format(hemisphere))\n",
    "#print(\"Years since 2000 = {0}\".format(yearProperMotion))\n",
    "#print(\"Display star names = {0}, display declination value = {1}, increment by = {2}\".format(displayStarName, displayDeclination, incrementValue))\n",
    "\n",
    "star_chart_spherical_projection.plotStereographicProjection(northOrSouth=hemisphere,\n",
    "                                                            yearSince2000=int(yearProperMotion),\n",
    "                                                            displayStarNamesLabels=displayStarName,\n",
    "                                                            displayDeclinationNumbers=displayDeclinationNum,\n",
    "                                                            isPrecessionIncluded=includePrecession,\n",
    "                                                            incrementBy=int(incrementValue))"
   ]
  },
  {
   "cell_type": "code",
   "execution_count": null,
   "id": "f1a2aef6",
   "metadata": {},
   "outputs": [],
   "source": []
  },
  {
   "cell_type": "code",
   "execution_count": null,
   "id": "80310d11",
   "metadata": {},
   "outputs": [],
   "source": []
  }
 ],
 "metadata": {
  "kernelspec": {
   "display_name": "Python 3 (ipykernel)",
   "language": "python",
   "name": "python3"
  },
  "language_info": {
   "codemirror_mode": {
    "name": "ipython",
    "version": 3
   },
   "file_extension": ".py",
   "mimetype": "text/x-python",
   "name": "python",
   "nbconvert_exporter": "python",
   "pygments_lexer": "ipython3",
   "version": "3.7.3"
  }
 },
 "nbformat": 4,
 "nbformat_minor": 5
}
