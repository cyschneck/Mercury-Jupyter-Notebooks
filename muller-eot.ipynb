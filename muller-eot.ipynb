{
 "cells": [
  {
   "cell_type": "raw",
   "id": "3e63eb47",
   "metadata": {},
   "source": [
    "---\n",
    "title: muller-eot\n",
    "description: muller-eot web application\n",
    "show-code: True\n",
    "params:\n",
    "    earthEccentricity:\n",
    "        input: numeric\n",
    "        label: Eccentricity of Earth (Degree)\n",
    "        value: 0.01671022\n",
    "        min: 0\n",
    "        max: 1\n",
    "        step: 0.0001\n",
    "    earthObliquity:\n",
    "        input: numeric\n",
    "        label: Obliquity of Earth\n",
    "        value: 23.4367\n",
    "        min: 0\n",
    "        max: 89\n",
    "        step: 0.0001\n",
    "    earthOrbitalPeriod:\n",
    "        input: numeric\n",
    "        label: Orbital Period of Earth (AU)\n",
    "        value: 1.0000001124\n",
    "        min: 0\n",
    "        max: 31\n",
    "        step: 0.0000000001\n",
    "---"
   ]
  },
  {
   "cell_type": "code",
   "execution_count": null,
   "id": "f0065506",
   "metadata": {},
   "outputs": [],
   "source": [
    "earthEccentricity = 0.01671022\n",
    "earthObliquity = 23.4367\n",
    "earthOrbitalPeriod = 1.0000001124"
   ]
  },
  {
   "cell_type": "code",
   "execution_count": null,
   "id": "cf53b3ae",
   "metadata": {},
   "outputs": [],
   "source": [
    "import muller_eot as eot\n",
    "\n",
    "orbital_period_planet = eot.calculateOrbitalPeriod(earthOrbitalPeriod)"
   ]
  },
  {
   "cell_type": "code",
   "execution_count": null,
   "id": "24ed0dcd",
   "metadata": {},
   "outputs": [],
   "source": [
    "# Effect of Eccentricity\n",
    "eccentricity_y = eot.calculateDifferenceEOTMinutes(earthEccentricity, 0, orbital_period_planet)\n",
    "eot.plotEOT(\"Earth\", orbital_period_planet, eccentricity_y, \"Eccentricity ({0})\".format(earthEccentricity), \"testing\")"
   ]
  },
  {
   "cell_type": "code",
   "execution_count": null,
   "id": "042208eb",
   "metadata": {},
   "outputs": [],
   "source": [
    "# Effect of Obliquity\n",
    "obliquity_y = eot.calculateDifferenceEOTMinutes(0, earthObliquity, orbital_period_planet)\n",
    "eot.plotEOT(\"Earth\", orbital_period_planet, obliquity_y, \"Obliquity ({0}°)\".format(earthObliquity), \"testing1\")"
   ]
  },
  {
   "cell_type": "code",
   "execution_count": null,
   "id": "2352712d",
   "metadata": {},
   "outputs": [],
   "source": [
    "# Combined Effect of Obliquity and Eccentricity\n",
    "eot_combined_y = eot.calculateDifferenceEOTMinutes(earthEccentricity, earthObliquity, orbital_period_planet)\n",
    "eot.plotEOT(\"Earth\", orbital_period_planet, eot_combined_y, \"Eccentricity ({0}) and Obliquity ({1}°)\".format(earthEccentricity, earthObliquity), \"testing3\")"
   ]
  }
 ],
 "metadata": {
  "kernelspec": {
   "display_name": "Python 3 (ipykernel)",
   "language": "python",
   "name": "python3"
  },
  "language_info": {
   "codemirror_mode": {
    "name": "ipython",
    "version": 3
   },
   "file_extension": ".py",
   "mimetype": "text/x-python",
   "name": "python",
   "nbconvert_exporter": "python",
   "pygments_lexer": "ipython3",
   "version": "3.7.3"
  }
 },
 "nbformat": 4,
 "nbformat_minor": 5
}
