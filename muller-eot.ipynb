{
 "cells": [
  {
   "cell_type": "raw",
   "id": "aef83bb3",
   "metadata": {},
   "source": [
    "---\n",
    "title: muller-eot\n",
    "description: muller-eot web application\n",
    "show-code: False\n",
    "params:\n",
    "    earthEccentricity:\n",
    "        input: numeric\n",
    "        label: Eccentricity of Earth (Degree)\n",
    "        value: 0.01671022\n",
    "        min: 0\n",
    "        max: 1\n",
    "        step: 0.0001\n",
    "    earthObliquity:\n",
    "        input: numeric\n",
    "        label: Obliquity of Earth\n",
    "        value: 23.4367\n",
    "        min: 0\n",
    "        max: 89\n",
    "        step: 0.0001\n",
    "    earthOrbitalPeriod:\n",
    "        input: numeric\n",
    "        label: Orbital Period of Earth (AU)\n",
    "        value: 1.0000001124\n",
    "        min: 0\n",
    "        max: 31\n",
    "        step: 0.0000000001\n",
    "---"
   ]
  },
  {
   "cell_type": "code",
   "execution_count": null,
   "id": "54c95792",
   "metadata": {},
   "outputs": [],
   "source": [
    "earthEccentricity = 0.01671022\n",
    "earthObliquity = 23.4367\n",
    "earthOrbitalPeriod = 1.0000001124"
   ]
  },
  {
   "cell_type": "code",
   "execution_count": null,
   "id": "44be5b86",
   "metadata": {},
   "outputs": [],
   "source": [
    "import muller_eot\n",
    "\n",
    "orbital_period_planet = muller_eot.calculateOrbitalPeriod(earthOrbitalPeriod)"
   ]
  },
  {
   "cell_type": "markdown",
   "id": "1f153e5b",
   "metadata": {},
   "source": [
    "## Effect of Eccentricity:"
   ]
  },
  {
   "cell_type": "code",
   "execution_count": null,
   "id": "1491c82b",
   "metadata": {},
   "outputs": [],
   "source": [
    "# Effect of Eccentricity\n",
    "eccentricity_y = muller_eot.calculateDifferenceEOTMinutes(eccentricity=earthEccentricity,\n",
    "                                                          obliquity_deg=0,\n",
    "                                                          orbit_period=orbital_period_planet)\n",
    "muller_eot.plotEOT(planet_name=\"Earth\", \n",
    "                    orbital_period=orbital_period_planet, \n",
    "                    eot_y=eccentricity_y, \n",
    "                    effect_title_str=\"Eccentricity ({0})\".format(earthEccentricity))"
   ]
  },
  {
   "cell_type": "markdown",
   "id": "9b404cd5",
   "metadata": {},
   "source": [
    "## Effect of Obliquity:"
   ]
  },
  {
   "cell_type": "code",
   "execution_count": null,
   "id": "5115627c",
   "metadata": {},
   "outputs": [],
   "source": [
    "# Effect of Obliquity\n",
    "obliquity_y = muller_eot.calculateDifferenceEOTMinutes(eccentricity=0, \n",
    "                                                        obliquity_deg=earthObliquity, \n",
    "                                                        orbit_period=orbital_period_planet)\n",
    "muller_eot.plotEOT(planet_name=\"Earth\", \n",
    "                    orbital_period=orbital_period_planet, \n",
    "                    eot_y=obliquity_y, \n",
    "                    effect_title_str=\"Obliquity ({0})\".format(earthObliquity))"
   ]
  },
  {
   "cell_type": "markdown",
   "id": "cc241411",
   "metadata": {},
   "source": [
    "## Effect of Eccentricity and Obliquity - Equation of Time:"
   ]
  },
  {
   "cell_type": "code",
   "execution_count": null,
   "id": "500b7547",
   "metadata": {},
   "outputs": [],
   "source": [
    "# Combined Effect of Obliquity and Eccentricity\n",
    "eot_combined_y = muller_eot.calculateDifferenceEOTMinutes(eccentricity=earthEccentricity,\n",
    "                                                          obliquity_deg=earthObliquity,\n",
    "                                                          orbit_period=orbital_period_planet)\n",
    "muller_eot.plotEOT(planet_name=\"Earth\",\n",
    "                   orbital_period=orbital_period_planet,\n",
    "                   eot_y=eot_combined_y,\n",
    "                   effect_title_str=\"Eccentricity ({0}) and Obliquity ({1})\".format(earthEccentricity, earthObliquity))"
   ]
  },
  {
   "cell_type": "code",
   "execution_count": null,
   "id": "3025deac",
   "metadata": {},
   "outputs": [],
   "source": []
  }
 ],
 "metadata": {
  "kernelspec": {
   "display_name": "Python 3 (ipykernel)",
   "language": "python",
   "name": "python3"
  },
  "language_info": {
   "codemirror_mode": {
    "name": "ipython",
    "version": 3
   },
   "file_extension": ".py",
   "mimetype": "text/x-python",
   "name": "python",
   "nbconvert_exporter": "python",
   "pygments_lexer": "ipython3",
   "version": "3.7.3"
  }
 },
 "nbformat": 4,
 "nbformat_minor": 5
}
